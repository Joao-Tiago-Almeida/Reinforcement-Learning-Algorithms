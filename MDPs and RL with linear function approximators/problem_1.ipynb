{
 "cells": [
  {
   "cell_type": "code",
   "execution_count": 1,
   "metadata": {},
   "outputs": [],
   "source": [
    "import problem_1 as mz\n",
    "import numpy as np\n",
    "import matplotlib.pyplot as plt\n",
    "import pickle\n",
    "import random"
   ]
  },
  {
   "cell_type": "markdown",
   "metadata": {},
   "source": [
    "# Problem 1 : The Maze and the Random Minotaur\n",
    "\n",
    "\n",
    "For some unknown reasons you wake up inside a maze (shown in figure 1) in position A. At the same time, there is a minotaur at the exit, in B. The minotaur follows a random walk while staying within the limits of the maze, and can walk inside the walls. This means that for example, if the minotaur is not in a cell at one of the borders of the maze, then it moves to the cell above, below, on the right, and on the left with the same probability 1/4. You cannot walk inside walls, and at a given cell, you may decide to move to an adjacent cell or to stay still. At each step, you observe the position of the minotaur, and decide on a one-step move (up, down, right or left) or not to move. If the minotaur catches you, it will eat you.3 Your objective is to identify a strategy maximizing the probability of exiting the maze (reaching B) before time T.\n",
    "\n",
    "_Note 1: Neither you nor the minotaur can walk diagonally._\n",
    "\n",
    "_Note 2: The minotaur catches you, if and only if, you are located at the same position, at the same time._"
   ]
  },
  {
   "cell_type": "markdown",
   "metadata": {},
   "source": [
    "## Basic Maze"
   ]
  },
  {
   "cell_type": "code",
   "execution_count": 2,
   "metadata": {},
   "outputs": [],
   "source": [
    "# Question - A\n",
    "\n",
    "# Description of the maze as a numpy array\n",
    "maze = np.array([\n",
    "    [0, 0, 1, 0, 0, 0, 0, 0],\n",
    "    [0, 0, 1, 0, 0, 1, 0, 0],\n",
    "    [0, 0, 1, 0, 0, 1, 1, 1],\n",
    "    [0, 0, 1, 0, 0, 1, 0, 0],\n",
    "    [0, 0, 0, 0, 0, 0, 0, 0],\n",
    "    [0, 1, 1, 1, 1, 1, 1, 0],\n",
    "    [0, 0, 0, 0, 1, 2, 0, 0]\n",
    "])\n",
    "# with the convention\n",
    "# 0 = empty cell\n",
    "# 1 = obstacle\n",
    "# 2 = exit of the Maze\n",
    "\n",
    "# mz.draw_maze(maze)\n",
    "\n",
    "# Create an environment maze\n",
    "env = mz.Maze(maze)"
   ]
  },
  {
   "cell_type": "markdown",
   "metadata": {},
   "source": [
    "## Dynamic programming"
   ]
  },
  {
   "cell_type": "code",
   "execution_count": 7,
   "metadata": {},
   "outputs": [
    {
     "data": {
      "image/png": "[encoded data removed]",
      "text/plain": [
       "<Figure size 576x504 with 1 Axes>"
      ]
     },
     "metadata": {},
     "output_type": "display_data"
    }
   ],
   "source": [
    "# Question - B\n",
    "\n",
    "# Finite horizon\n",
    "horizon = 20\n",
    "\n",
    "# Solve the MDP problem with dynamic programming \n",
    "V, policy, minotaurs_path = mz.dynamic_programming(env,horizon,True);\n",
    "\n",
    "\n",
    "# Simulate the shortest path starting from position A\n",
    "method = 'DynProg';\n",
    "start  = (0,0);\n",
    "path,_ = env.simulate(start, policy, method);\n",
    "mz.animate_solution(maze,path,minotaurs_path)"
   ]
  },
  {
   "cell_type": "code",
   "execution_count": null,
   "metadata": {},
   "outputs": [],
   "source": [
    "# Question - C \n",
    "\n",
    "H_list=[]\n",
    "P_list_stay=[]\n",
    "P_list_not_stay=[]\n",
    "p=1000\n",
    "\n",
    "for horizon in range(31):\n",
    "    d_mcm0, _ = mz.monte_carlo_method(p=p,start=start,maze=maze,horizon=horizon,env=env,method=method,minotaurs_stay=True)\n",
    "    if len(d_mcm0) > 1:\n",
    "        P_list_stay.append(100*d_mcm0[0]/(d_mcm0[0]+d_mcm0[1]))\n",
    "    else:\n",
    "        P_list_stay.append(100)\n",
    "    d_mcm0, _ = mz.monte_carlo_method(p=p,start=start,maze=maze,horizon=horizon,env=env,method=method,minotaurs_stay=False)\n",
    "    if len(d_mcm0) > 1:\n",
    "        P_list_not_stay.append(100*d_mcm0[0]/(d_mcm0[0]+d_mcm0[1]))\n",
    "    else:\n",
    "        P_list_not_stay.append(100)\n",
    "    \n",
    "    H_list.append(horizon)\n",
    "\n"
   ]
  },
  {
   "cell_type": "code",
   "execution_count": null,
   "metadata": {},
   "outputs": [],
   "source": [
    "\n",
    "fig, ax = plt.subplots()\n",
    "ax.plot(H_list, P_list_stay, label='Stay', c='r', lw=2)\n",
    "ax.plot(H_list, P_list_not_stay, label='Not Stay', c='g', lw=2)\n",
    "ax.set_title('Probability of leaving the maze for several time horizon')\n",
    "ax.set_xlabel('Horizon')\n",
    "ax.set_ylabel('Probability of exiting the maze (in %)')\n",
    "ax.grid(True)\n",
    "ax.legend()\n",
    "plt.savefig('fig_question_C')\n"
   ]
  },
  {
   "cell_type": "markdown",
   "metadata": {},
   "source": [
    "## Value Iteration"
   ]
  },
  {
   "cell_type": "code",
   "execution_count": 8,
   "metadata": {},
   "outputs": [
    {
     "data": {
      "image/png": "[encoded data removed]",
      "text/plain": [
       "<Figure size 576x504 with 1 Axes>"
      ]
     },
     "metadata": {},
     "output_type": "display_data"
    }
   ],
   "source": [
    "# Question - D\n",
    "\n",
    "discount_factor = 29/30\n",
    "epsilon = 0.0001\n",
    "V, policy = mz.value_iteration(env,discount_factor, epsilon)\n",
    "path, _ = env.simulate((0,0), policy, 'ValIter', life_0 = mz.starting_life(30))\n",
    "mz.animate_solution(maze,path,mz.randomize_minotaur_path(start = (6,5), maze_dimensions = maze.shape, T = len(path)-1))\n"
   ]
  },
  {
   "cell_type": "code",
   "execution_count": null,
   "metadata": {},
   "outputs": [],
   "source": [
    "V[env.map[start]]"
   ]
  },
  {
   "cell_type": "code",
   "execution_count": null,
   "metadata": {},
   "outputs": [],
   "source": [
    "# Question - E\n",
    "\n",
    "p = 10000\n",
    "exiting = 0\n",
    "GEOM = np.random.geometric(p=1-discount_factor, size=p)\n",
    "\n",
    "for i in range(p):\n",
    "    path, _ = env.simulate((0,0), policy, 'ValIter', life_0 = mz.starting_life(30))\n",
    "    if GEOM[i] > len(path) or path[GEOM[i]-1] == 'WIN' or (path[GEOM[i]-1][0] == (6,5) and path[GEOM[i]-1][1] != (6,5)):\n",
    "        #Every possibility that means that the player has won the game\n",
    "        exiting += 1\n",
    "print(f\"Probability of exiting the maze is {exiting/p} \\n\")\n"
   ]
  },
  {
   "cell_type": "code",
   "execution_count": null,
   "metadata": {},
   "outputs": [],
   "source": [
    "# Question G\n",
    "\n",
    "# add the intermidiate state - C\n",
    "mazeC, mazeB = maze.copy(), maze.copy()\n",
    "mazeC[6,5], mazeC[0,7], mazeB[0,7] = 0, 2, -2\n",
    "envC, envB = mz.Maze(mazeC), mz.Maze(mazeB)\n",
    "\n",
    "discount_factor, epsilon, life_0 = 0.99, 0.0001, mz.starting_life(50)\n",
    "\n",
    "_, policyC = mz.value_iteration(envC,discount_factor, epsilon)\n",
    "\n",
    "pathC, life_felft = envC.simulate((0,0), policyC, 'ValIter', life_0)\n",
    "if(life_felft>0 and pathC[-1]==(0,7)):\n",
    "\n",
    "    _, policyB = mz.value_iteration(envB,discount_factor, epsilon)\n",
    "    pathB, life_felft = envB.simulate(pathC[-1], policyB, 'ValIter',life_0 = life_felft)    \n",
    "\n",
    "    if (life_felft>0 and pathB[-1]==(6,5)):\n",
    "\n",
    "        pathA = pathC[:-2]+pathB\n",
    "\n",
    "        minotaurs_path = [(6,5)]\n",
    "        for t in range(len(pathA)):\n",
    "            if random.uniform(0,1) < 0.65:\n",
    "                move = mz.randomize_minotaur_path(start = minotaurs_path[-1], maze_dimensions = maze.shape, T = 1)[1]\n",
    "            else:\n",
    "                move = mz.orientated_minotaur_path(start = minotaurs_path[-1], goal = np.array(pathA[t]), T = 1)\n",
    "\n",
    "            minotaurs_path.append(move)   \n",
    "        \n",
    "        mz.animate_solution(mazeB,pathA,minotaurs_path)\n",
    "        print(f\"Initial life of {life_0} is enough to get the key and to leave the Maze\")\n",
    "        \n",
    "    else:\n",
    "        print(f\"Initial life of {life_0} is not enough to leave the Maze\")\n",
    "else:\n",
    "    print(f\"Initial life of {life_0} is not enough to take the key\")\n",
    "\n"
   ]
  },
  {
   "cell_type": "markdown",
   "metadata": {},
   "source": [
    "## Q-Learning"
   ]
  },
  {
   "cell_type": "code",
   "execution_count": null,
   "metadata": {},
   "outputs": [],
   "source": [
    "# Question H-2 and # Question H-3\n",
    "\n",
    "mazeC, mazeB = maze.copy(), maze.copy()\n",
    "mazeC[6,5], mazeC[0,7], mazeB[0,7] = 0, 2, -2\n",
    "envC, envB = mz.Maze(mazeC), mz.Maze(mazeB)\n",
    "\n",
    "epsilon = 0.5\n",
    "discount_factor = 0.8\n",
    "alpha = 2/3\n",
    "algotithm = \"Q-Learning\"\n",
    "\n",
    "fig, ax = plt.subplots()\n",
    "\n",
    "Q_c_qlearning, policy_qlearning_C = mz.q_learning_or_sarsa(envC, discount_factor, epsilon=epsilon, alpha=alpha, algorithm = algotithm, start = (0,0), axes=ax)\n",
    "Q_b_qlearning, policy_qlearning_B = mz.q_learning_or_sarsa(envB, discount_factor, epsilon=epsilon, alpha=alpha, algorithm = algotithm, start = (0,7), axes=ax)\n",
    "\n",
    "plt.grid(axis = 'y')\n",
    "plt.title(f'Evolution of the Value Function over episodes with Q - Learning')\n",
    "plt.xlabel('Episodes')\n",
    "plt.ylabel('Sum of the value function')\n",
    "plt.legend(('Start   ->   Key','Key     ->   Exit'))\n",
    "plt.show()"
   ]
  },
  {
   "cell_type": "code",
   "execution_count": null,
   "metadata": {},
   "outputs": [],
   "source": [
    "print(mz.f(policy_qlearning_B))"
   ]
  },
  {
   "cell_type": "code",
   "execution_count": null,
   "metadata": {},
   "outputs": [],
   "source": [
    "# Question I-2 and # Question I-3\n",
    "\n",
    "mazeC, mazeB = maze.copy(), maze.copy()\n",
    "mazeC[6,5], mazeC[0,7], mazeB[0,7] = 0, 2, -2\n",
    "envC, envB = mz.Maze(mazeC), mz.Maze(mazeB)\n",
    "\n",
    "epsilon = 0.2\n",
    "discount_factor = 0.8\n",
    "alpha = 2/3\n",
    "algotithm = \"SARSA\"\n",
    "\n",
    "fig, ax = plt.subplots()\n",
    "\n",
    "Q_c_sarsa, policy_sarsa_C = mz.q_learning_or_sarsa(envC, discount_factor=discount_factor, epsilon=epsilon, alpha=alpha, algorithm = algotithm, start = (0,0), axes=ax, Q = np.zeros(shape=(40,5)))\n",
    "Q_b_sarsa, policy_sarsa_B = mz.q_learning_or_sarsa(envB, discount_factor=discount_factor, epsilon=epsilon, alpha=alpha, algorithm = algotithm, start = (0,7), axes=ax, Q = np.zeros(shape=(40,5)))\n",
    "\n",
    "plt.grid(axis = 'y')\n",
    "plt.title(f'Evolution of the Value Function over episodes with SARSA')\n",
    "plt.xlabel('Episodes')\n",
    "plt.ylabel('Sum of the value function')\n",
    "plt.legend(('Start   ->   Key','Key     ->   Exit'))\n",
    "plt.show()"
   ]
  },
  {
   "cell_type": "code",
   "execution_count": null,
   "metadata": {},
   "outputs": [],
   "source": [
    "print(mz.f(policy_sarsa_C))"
   ]
  },
  {
   "cell_type": "code",
   "execution_count": null,
   "metadata": {},
   "outputs": [],
   "source": [
    "# Test of path for Q learning and Sarsa\n",
    "\n",
    "start = (0,0)\n",
    "key = (0,7)\n",
    "exit = (6,5)\n",
    "\n",
    "P_exit_qlearning = []\n",
    "P_exit_sarsa = []\n",
    "horizon = []\n",
    "\n",
    "# policy_qlearning_C, policy_sarsa_C = policyC, policyC\n",
    "# policy_qlearning_B, policy_sarsa_B = policyB, policyB\n",
    "\n",
    "probability = lambda d: 100*d[0]/(d[0]+d[1]+d[2]) if d[0]!=0 else 0\n",
    "\n",
    "\n",
    "for life_0 in range(0, 51):    # for each life\n",
    "    \n",
    "    d_results_qlearning = {0:0,1:0,2:0}\n",
    "    d_results_sarsa = {0:0,1:0,2:0}\n",
    "\n",
    "\n",
    "    for h in range(100):       # Try 100 times for eaach life\n",
    "\n",
    "        # Run minotaur\n",
    "        minotaurs_path = mz.randomize_minotaur_path(start = exit, maze_dimensions = maze.shape, T = life_0+1)\n",
    "\n",
    "        # Q-Learning\n",
    "        pathC, life_felft = envC.simulate(start, policy_qlearning_C, 'ValIter', life_0 = life_0)\n",
    "        \n",
    "        if(life_felft>0 and pathC[-1]==key):\n",
    "            pathB, life_felft = envB.simulate(pathC[-1], policy_qlearning_B, 'ValIter',life_0 = life_felft)    \n",
    "\n",
    "            if (life_felft>0 and pathB[-1]==exit):\n",
    "\n",
    "                pathA = pathC[:-2]+pathB  \n",
    "\n",
    "                d_results_qlearning[\n",
    "                    mz.path_result(pathA,minotaurs_path,tuple(exit))\n",
    "                ] += 1\n",
    "\n",
    "        # Q-SARSA\n",
    "        pathC, life_felft = envC.simulate(start, policy_sarsa_C, 'ValIter', life_0 = life_0)\n",
    "        \n",
    "        if(life_felft>0 and pathC[-1]==key):\n",
    "            pathB, life_felft = envB.simulate(pathC[-1], policy_sarsa_B, 'ValIter',life_0 = life_felft)    \n",
    "\n",
    "            if (life_felft>0 and pathB[-1]==exit):\n",
    "\n",
    "                pathA = pathC[:-2]+pathB  \n",
    "\n",
    "                d_results_sarsa[\n",
    "                    mz.path_result(pathA,minotaurs_path,tuple(exit))\n",
    "                ] += 1\n",
    "\n",
    "    # store the probabilities\n",
    "    P_exit_qlearning.append(probability(d_results_qlearning))\n",
    "    P_exit_sarsa.append(probability(d_results_sarsa))\n",
    "    horizon.append(life_0)\n",
    "                "
   ]
  },
  {
   "cell_type": "code",
   "execution_count": null,
   "metadata": {},
   "outputs": [],
   "source": [
    "fig, ax = plt.subplots()\n",
    "ax.plot(horizon, P_exit_qlearning, label='Q-Learning', c='r', lw=2)\n",
    "ax.plot(horizon, P_exit_sarsa, label='SARSA', c='g', lw=2)\n",
    "ax.set_title('Probability of leaving the maze for different policies')\n",
    "ax.set_xlabel('Horizon')\n",
    "ax.set_ylabel('Probability of exiting the maze (in %)')\n",
    "ax.grid(True)\n",
    "ax.legend()\n",
    "plt.savefig('fig_question_i')"
   ]
  }
 ],
 "metadata": {
  "interpreter": {
   "hash": "70b38d7a306a849643e446cd70466270a13445e5987dfa1344ef2b127438fa4d"
  },
  "kernelspec": {
   "display_name": "Python 3.7.4 64-bit",
   "language": "python",
   "name": "python3"
  },
  "language_info": {
   "codemirror_mode": {
    "name": "ipython",
    "version": 3
   },
   "file_extension": ".py",
   "mimetype": "text/x-python",
   "name": "python",
   "nbconvert_exporter": "python",
   "pygments_lexer": "ipython3",
   "version": "3.7.4"
  },
  "orig_nbformat": 4
 },
 "nbformat": 4,
 "nbformat_minor": 2
}
